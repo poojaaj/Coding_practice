{
 "cells": [
  {
   "cell_type": "code",
   "execution_count": 1,
   "metadata": {},
   "outputs": [
    {
     "name": "stdout",
     "output_type": "stream",
     "text": [
      "['h', 'a', 'n', 'n', 'a', 'H']\n"
     ]
    }
   ],
   "source": [
    "# Write a function that reverses a string. The input string is given as an array of characters char[].\n",
    "\n",
    "# Do not allocate extra space for another array, you must do this by modifying the input array in-place with O(1) extra memory.\n",
    "\n",
    "# You may assume all the characters consist of printable ascii characters.\n",
    "\n",
    " \n",
    "\n",
    "# Example 1:\n",
    "\n",
    "# Input: [\"h\",\"e\",\"l\",\"l\",\"o\"]\n",
    "# Output: [\"o\",\"l\",\"l\",\"e\",\"h\"]\n",
    "# Example 2:\n",
    "\n",
    "# Input: [\"H\",\"a\",\"n\",\"n\",\"a\",\"h\"]\n",
    "# Output: [\"h\",\"a\",\"n\",\"n\",\"a\",\"H\"]\n",
    "\n",
    "def reverse(a):\n",
    "    a.reverse()\n",
    "    return a\n",
    "\n",
    "a = [\"H\",\"a\",\"n\",\"n\",\"a\",\"h\"]\n",
    "print(reverse(a)) "
   ]
  },
  {
   "cell_type": "code",
   "execution_count": 2,
   "metadata": {},
   "outputs": [
    {
     "name": "stdout",
     "output_type": "stream",
     "text": [
      "['o', 'l', 'l', 'e', 'h']\n"
     ]
    }
   ],
   "source": [
    "def reverse(a):\n",
    "    a.reverse()\n",
    "    return a\n",
    "\n",
    "a = [\"h\",\"e\",\"l\",\"l\",\"o\"]\n",
    "print(reverse(a))"
   ]
  },
  {
   "cell_type": "code",
   "execution_count": 3,
   "metadata": {},
   "outputs": [
    {
     "name": "stdout",
     "output_type": "stream",
     "text": [
      "['o', 'l', 'l', 'e', 'h']\n"
     ]
    }
   ],
   "source": [
    "a = [\"h\",\"e\",\"l\",\"l\",\"o\"]\n",
    "l = []\n",
    "def reverse_str(a):\n",
    "    for i in reversed(range(len(a))):\n",
    "        l.append(a[i])\n",
    "    return l\n",
    "\n",
    "print(reverse_str(a))"
   ]
  },
  {
   "cell_type": "code",
   "execution_count": 2,
   "metadata": {},
   "outputs": [],
   "source": [
    "# Recursion, In-Place, O(N) Space\n",
    "\n",
    "class Solution:\n",
    "    def reverseString(self, s):\n",
    "        def helper(left, right):\n",
    "            if left < right:\n",
    "                s[left], s[right] = s[right], s[left]\n",
    "                helper(left + 1, right - 1)\n",
    "\n",
    "        helper(0, len(s) - 1)"
   ]
  },
  {
   "cell_type": "code",
   "execution_count": 1,
   "metadata": {},
   "outputs": [
    {
     "name": "stdout",
     "output_type": "stream",
     "text": [
      "['o', 'l', 'l', 'e', 'h']\n"
     ]
    }
   ],
   "source": [
    "# Two Pointers, Iteration, O(1) Space\n",
    "\n",
    "a = [\"h\",\"e\",\"l\",\"l\",\"o\"]\n",
    "    \n",
    "def reverse_str(a):\n",
    "    front = 0\n",
    "    back = len(a)-1\n",
    "    while front < back:\n",
    "        a[front] ,a[back] = a[back] , a[front]\n",
    "        front = front + 1\n",
    "        back = back - 1\n",
    "    return a\n",
    "\n",
    "print(reverse_str(a))"
   ]
  },
  {
   "cell_type": "code",
   "execution_count": 13,
   "metadata": {},
   "outputs": [
    {
     "name": "stdout",
     "output_type": "stream",
     "text": [
      "0.0\n",
      "inf\n"
     ]
    }
   ],
   "source": [
    "# Given a 32-bit signed integer, reverse digits of an integer.\n",
    "\n",
    "# Example 1:\n",
    "# Input: 123\n",
    "# Output: 321\n",
    "\n",
    "# Example 2:\n",
    "# Input: -123\n",
    "# Output: -321\n",
    "    \n",
    "# Example 3:\n",
    "# Input: 120\n",
    "# Output: 21\n",
    "    \n",
    "# Note:\n",
    "# Assume we are dealing with an environment which could only store integers within the 32-bit signed integer range: \n",
    "# [−231,  231 − 1]. For the purpose of this problem, assume that your function returns 0 when the reversed integer overflows.\n",
    "\n",
    "def revint(s):\n",
    "    x = 0 \n",
    "    res = 0\n",
    "    while s > 0:\n",
    "        x = s % 10\n",
    "        s = s / 10\n",
    "        res = res * 10 + x \n",
    "    return res \n",
    "\n",
    "s = 123\n",
    "print(revint(s))\n",
    "if s < 0:\n",
    "    s = s * -1\n",
    "    print(revint(s) * -1)\n",
    "else:\n",
    "    print(revint(s))"
   ]
  },
  {
   "cell_type": "code",
   "execution_count": 18,
   "metadata": {},
   "outputs": [
    {
     "data": {
      "text/plain": [
       "-54321"
      ]
     },
     "execution_count": 18,
     "metadata": {},
     "output_type": "execute_result"
    }
   ],
   "source": [
    "def reverse(x):\n",
    "\n",
    "    #The positive and negative limits given\n",
    "    pos_max = (2**31)-1\n",
    "    neg_min = (-2)**31\n",
    "\n",
    "    #if negative set neg_flag\n",
    "    neg_flag = x<0\n",
    "    if neg_flag:\n",
    "        x*=-1\n",
    "    rev = 0\n",
    "\n",
    "    while x != 0:\n",
    "        pop = x % 10\n",
    "\n",
    "        if neg_flag:\n",
    "            pop=pop*-1\n",
    "\n",
    "        x //= 10\n",
    "        #pop>7 and pop<-8 attributes to pos_max being 2,147,483,647 and neg_min being -2,147,483,648\n",
    "        if rev > pos_max/10 or (rev == pos_max/10 and pop > 7):\n",
    "            return 0\n",
    "        if rev < neg_min/10 or (rev == neg_min/10 and pop < -8):\n",
    "            return 0\n",
    "        rev = rev * 10 + pop\n",
    "\n",
    "    return rev\n",
    "\n",
    "x = -12345\n",
    "reverse(x)"
   ]
  },
  {
   "cell_type": "code",
   "execution_count": null,
   "metadata": {},
   "outputs": [],
   "source": []
  },
  {
   "cell_type": "code",
   "execution_count": null,
   "metadata": {},
   "outputs": [],
   "source": []
  }
 ],
 "metadata": {
  "kernelspec": {
   "display_name": "Python 3",
   "language": "python",
   "name": "python3"
  },
  "language_info": {
   "codemirror_mode": {
    "name": "ipython",
    "version": 3
   },
   "file_extension": ".py",
   "mimetype": "text/x-python",
   "name": "python",
   "nbconvert_exporter": "python",
   "pygments_lexer": "ipython3",
   "version": "3.7.4"
  }
 },
 "nbformat": 4,
 "nbformat_minor": 2
}
